{
 "cells": [
  {
   "cell_type": "code",
   "execution_count": 1,
   "metadata": {},
   "outputs": [],
   "source": [
    "dates <- seq(as.Date(\"2016/01/01\"), by = \"month\", length.out = 40)\n",
    "row_label <- c(\"A: format 1\", \"B: format 2\", \"C: format 3\", \"D: format 4\")"
   ]
  },
  {
   "cell_type": "code",
   "execution_count": 2,
   "metadata": {},
   "outputs": [
    {
     "data": {
      "text/html": [
       "<ol class=list-inline>\n",
       "\t<li><time datetime=\"2016-01-01\">2016-01-01</time></li>\n",
       "\t<li><time datetime=\"2016-02-01\">2016-02-01</time></li>\n",
       "\t<li><time datetime=\"2016-03-01\">2016-03-01</time></li>\n",
       "\t<li><time datetime=\"2016-04-01\">2016-04-01</time></li>\n",
       "\t<li><time datetime=\"2016-05-01\">2016-05-01</time></li>\n",
       "\t<li><time datetime=\"2016-06-01\">2016-06-01</time></li>\n",
       "\t<li><time datetime=\"2016-07-01\">2016-07-01</time></li>\n",
       "\t<li><time datetime=\"2016-08-01\">2016-08-01</time></li>\n",
       "\t<li><time datetime=\"2016-09-01\">2016-09-01</time></li>\n",
       "\t<li><time datetime=\"2016-10-01\">2016-10-01</time></li>\n",
       "\t<li><time datetime=\"2016-11-01\">2016-11-01</time></li>\n",
       "\t<li><time datetime=\"2016-12-01\">2016-12-01</time></li>\n",
       "\t<li><time datetime=\"2017-01-01\">2017-01-01</time></li>\n",
       "\t<li><time datetime=\"2017-02-01\">2017-02-01</time></li>\n",
       "\t<li><time datetime=\"2017-03-01\">2017-03-01</time></li>\n",
       "\t<li><time datetime=\"2017-04-01\">2017-04-01</time></li>\n",
       "\t<li><time datetime=\"2017-05-01\">2017-05-01</time></li>\n",
       "\t<li><time datetime=\"2017-06-01\">2017-06-01</time></li>\n",
       "\t<li><time datetime=\"2017-07-01\">2017-07-01</time></li>\n",
       "\t<li><time datetime=\"2017-08-01\">2017-08-01</time></li>\n",
       "\t<li><time datetime=\"2017-09-01\">2017-09-01</time></li>\n",
       "\t<li><time datetime=\"2017-10-01\">2017-10-01</time></li>\n",
       "\t<li><time datetime=\"2017-11-01\">2017-11-01</time></li>\n",
       "\t<li><time datetime=\"2017-12-01\">2017-12-01</time></li>\n",
       "\t<li><time datetime=\"2018-01-01\">2018-01-01</time></li>\n",
       "\t<li><time datetime=\"2018-02-01\">2018-02-01</time></li>\n",
       "\t<li><time datetime=\"2018-03-01\">2018-03-01</time></li>\n",
       "\t<li><time datetime=\"2018-04-01\">2018-04-01</time></li>\n",
       "\t<li><time datetime=\"2018-05-01\">2018-05-01</time></li>\n",
       "\t<li><time datetime=\"2018-06-01\">2018-06-01</time></li>\n",
       "\t<li><time datetime=\"2018-07-01\">2018-07-01</time></li>\n",
       "\t<li><time datetime=\"2018-08-01\">2018-08-01</time></li>\n",
       "\t<li><time datetime=\"2018-09-01\">2018-09-01</time></li>\n",
       "\t<li><time datetime=\"2018-10-01\">2018-10-01</time></li>\n",
       "\t<li><time datetime=\"2018-11-01\">2018-11-01</time></li>\n",
       "\t<li><time datetime=\"2018-12-01\">2018-12-01</time></li>\n",
       "\t<li><time datetime=\"2019-01-01\">2019-01-01</time></li>\n",
       "\t<li><time datetime=\"2019-02-01\">2019-02-01</time></li>\n",
       "\t<li><time datetime=\"2019-03-01\">2019-03-01</time></li>\n",
       "\t<li><time datetime=\"2019-04-01\">2019-04-01</time></li>\n",
       "</ol>\n"
      ],
      "text/latex": [
       "\\begin{enumerate*}\n",
       "\\item 2016-01-01\n",
       "\\item 2016-02-01\n",
       "\\item 2016-03-01\n",
       "\\item 2016-04-01\n",
       "\\item 2016-05-01\n",
       "\\item 2016-06-01\n",
       "\\item 2016-07-01\n",
       "\\item 2016-08-01\n",
       "\\item 2016-09-01\n",
       "\\item 2016-10-01\n",
       "\\item 2016-11-01\n",
       "\\item 2016-12-01\n",
       "\\item 2017-01-01\n",
       "\\item 2017-02-01\n",
       "\\item 2017-03-01\n",
       "\\item 2017-04-01\n",
       "\\item 2017-05-01\n",
       "\\item 2017-06-01\n",
       "\\item 2017-07-01\n",
       "\\item 2017-08-01\n",
       "\\item 2017-09-01\n",
       "\\item 2017-10-01\n",
       "\\item 2017-11-01\n",
       "\\item 2017-12-01\n",
       "\\item 2018-01-01\n",
       "\\item 2018-02-01\n",
       "\\item 2018-03-01\n",
       "\\item 2018-04-01\n",
       "\\item 2018-05-01\n",
       "\\item 2018-06-01\n",
       "\\item 2018-07-01\n",
       "\\item 2018-08-01\n",
       "\\item 2018-09-01\n",
       "\\item 2018-10-01\n",
       "\\item 2018-11-01\n",
       "\\item 2018-12-01\n",
       "\\item 2019-01-01\n",
       "\\item 2019-02-01\n",
       "\\item 2019-03-01\n",
       "\\item 2019-04-01\n",
       "\\end{enumerate*}\n"
      ],
      "text/markdown": [
       "1. 2016-01-01\n",
       "2. 2016-02-01\n",
       "3. 2016-03-01\n",
       "4. 2016-04-01\n",
       "5. 2016-05-01\n",
       "6. 2016-06-01\n",
       "7. 2016-07-01\n",
       "8. 2016-08-01\n",
       "9. 2016-09-01\n",
       "10. 2016-10-01\n",
       "11. 2016-11-01\n",
       "12. 2016-12-01\n",
       "13. 2017-01-01\n",
       "14. 2017-02-01\n",
       "15. 2017-03-01\n",
       "16. 2017-04-01\n",
       "17. 2017-05-01\n",
       "18. 2017-06-01\n",
       "19. 2017-07-01\n",
       "20. 2017-08-01\n",
       "21. 2017-09-01\n",
       "22. 2017-10-01\n",
       "23. 2017-11-01\n",
       "24. 2017-12-01\n",
       "25. 2018-01-01\n",
       "26. 2018-02-01\n",
       "27. 2018-03-01\n",
       "28. 2018-04-01\n",
       "29. 2018-05-01\n",
       "30. 2018-06-01\n",
       "31. 2018-07-01\n",
       "32. 2018-08-01\n",
       "33. 2018-09-01\n",
       "34. 2018-10-01\n",
       "35. 2018-11-01\n",
       "36. 2018-12-01\n",
       "37. 2019-01-01\n",
       "38. 2019-02-01\n",
       "39. 2019-03-01\n",
       "40. 2019-04-01\n",
       "\n",
       "\n"
      ],
      "text/plain": [
       " [1] \"2016-01-01\" \"2016-02-01\" \"2016-03-01\" \"2016-04-01\" \"2016-05-01\"\n",
       " [6] \"2016-06-01\" \"2016-07-01\" \"2016-08-01\" \"2016-09-01\" \"2016-10-01\"\n",
       "[11] \"2016-11-01\" \"2016-12-01\" \"2017-01-01\" \"2017-02-01\" \"2017-03-01\"\n",
       "[16] \"2017-04-01\" \"2017-05-01\" \"2017-06-01\" \"2017-07-01\" \"2017-08-01\"\n",
       "[21] \"2017-09-01\" \"2017-10-01\" \"2017-11-01\" \"2017-12-01\" \"2018-01-01\"\n",
       "[26] \"2018-02-01\" \"2018-03-01\" \"2018-04-01\" \"2018-05-01\" \"2018-06-01\"\n",
       "[31] \"2018-07-01\" \"2018-08-01\" \"2018-09-01\" \"2018-10-01\" \"2018-11-01\"\n",
       "[36] \"2018-12-01\" \"2019-01-01\" \"2019-02-01\" \"2019-03-01\" \"2019-04-01\""
      ]
     },
     "metadata": {},
     "output_type": "display_data"
    }
   ],
   "source": [
    "dates"
   ]
  },
  {
   "cell_type": "code",
   "execution_count": 3,
   "metadata": {},
   "outputs": [
    {
     "data": {
      "text/html": [
       "<ol class=list-inline>\n",
       "\t<li>'A: format 1'</li>\n",
       "\t<li>'B: format 2'</li>\n",
       "\t<li>'C: format 3'</li>\n",
       "\t<li>'D: format 4'</li>\n",
       "</ol>\n"
      ],
      "text/latex": [
       "\\begin{enumerate*}\n",
       "\\item 'A: format 1'\n",
       "\\item 'B: format 2'\n",
       "\\item 'C: format 3'\n",
       "\\item 'D: format 4'\n",
       "\\end{enumerate*}\n"
      ],
      "text/markdown": [
       "1. 'A: format 1'\n",
       "2. 'B: format 2'\n",
       "3. 'C: format 3'\n",
       "4. 'D: format 4'\n",
       "\n",
       "\n"
      ],
      "text/plain": [
       "[1] \"A: format 1\" \"B: format 2\" \"C: format 3\" \"D: format 4\""
      ]
     },
     "metadata": {},
     "output_type": "display_data"
    }
   ],
   "source": [
    "row_label"
   ]
  },
  {
   "cell_type": "code",
   "execution_count": 4,
   "metadata": {},
   "outputs": [],
   "source": [
    "library(data.table)\n",
    "init_table <- CJ(dates, row_label)"
   ]
  },
  {
   "cell_type": "code",
   "execution_count": 5,
   "metadata": {},
   "outputs": [
    {
     "data": {
      "text/html": [
       "<table>\n",
       "<thead><tr><th scope=col>dates</th><th scope=col>row_label</th></tr></thead>\n",
       "<tbody>\n",
       "\t<tr><td>2016-01-01 </td><td>A: format 1</td></tr>\n",
       "\t<tr><td>2016-01-01 </td><td>B: format 2</td></tr>\n",
       "\t<tr><td>2016-01-01 </td><td>C: format 3</td></tr>\n",
       "\t<tr><td>2016-01-01 </td><td>D: format 4</td></tr>\n",
       "\t<tr><td>2016-02-01 </td><td>A: format 1</td></tr>\n",
       "\t<tr><td>2016-02-01 </td><td>B: format 2</td></tr>\n",
       "</tbody>\n",
       "</table>\n"
      ],
      "text/latex": [
       "\\begin{tabular}{r|ll}\n",
       " dates & row\\_label\\\\\n",
       "\\hline\n",
       "\t 2016-01-01  & A: format 1\\\\\n",
       "\t 2016-01-01  & B: format 2\\\\\n",
       "\t 2016-01-01  & C: format 3\\\\\n",
       "\t 2016-01-01  & D: format 4\\\\\n",
       "\t 2016-02-01  & A: format 1\\\\\n",
       "\t 2016-02-01  & B: format 2\\\\\n",
       "\\end{tabular}\n"
      ],
      "text/markdown": [
       "\n",
       "| dates | row_label |\n",
       "|---|---|\n",
       "| 2016-01-01  | A: format 1 |\n",
       "| 2016-01-01  | B: format 2 |\n",
       "| 2016-01-01  | C: format 3 |\n",
       "| 2016-01-01  | D: format 4 |\n",
       "| 2016-02-01  | A: format 1 |\n",
       "| 2016-02-01  | B: format 2 |\n",
       "\n"
      ],
      "text/plain": [
       "  dates      row_label  \n",
       "1 2016-01-01 A: format 1\n",
       "2 2016-01-01 B: format 2\n",
       "3 2016-01-01 C: format 3\n",
       "4 2016-01-01 D: format 4\n",
       "5 2016-02-01 A: format 1\n",
       "6 2016-02-01 B: format 2"
      ]
     },
     "metadata": {},
     "output_type": "display_data"
    }
   ],
   "source": [
    "head(init_table)"
   ]
  },
  {
   "cell_type": "code",
   "execution_count": 6,
   "metadata": {},
   "outputs": [
    {
     "data": {
      "text/plain": [
       "               _                           \n",
       "platform       x86_64-conda_cos6-linux-gnu \n",
       "arch           x86_64                      \n",
       "os             linux-gnu                   \n",
       "system         x86_64, linux-gnu           \n",
       "status                                     \n",
       "major          3                           \n",
       "minor          6.1                         \n",
       "year           2019                        \n",
       "month          07                          \n",
       "day            05                          \n",
       "svn rev        76782                       \n",
       "language       R                           \n",
       "version.string R version 3.6.1 (2019-07-05)\n",
       "nickname       Action of the Toes          "
      ]
     },
     "metadata": {},
     "output_type": "display_data"
    }
   ],
   "source": [
    "version"
   ]
  },
  {
   "cell_type": "code",
   "execution_count": 7,
   "metadata": {},
   "outputs": [
    {
     "data": {
      "text/html": [
       "2"
      ],
      "text/latex": [
       "2"
      ],
      "text/markdown": [
       "2"
      ],
      "text/plain": [
       "[1] 2"
      ]
     },
     "metadata": {},
     "output_type": "display_data"
    }
   ],
   "source": [
    "length(init_table)"
   ]
  },
  {
   "cell_type": "code",
   "execution_count": 8,
   "metadata": {},
   "outputs": [
    {
     "data": {
      "text/html": [
       "<ol class=list-inline>\n",
       "\t<li>160</li>\n",
       "\t<li>2</li>\n",
       "</ol>\n"
      ],
      "text/latex": [
       "\\begin{enumerate*}\n",
       "\\item 160\n",
       "\\item 2\n",
       "\\end{enumerate*}\n"
      ],
      "text/markdown": [
       "1. 160\n",
       "2. 2\n",
       "\n",
       "\n"
      ],
      "text/plain": [
       "[1] 160   2"
      ]
     },
     "metadata": {},
     "output_type": "display_data"
    }
   ],
   "source": [
    "dim(init_table)"
   ]
  },
  {
   "cell_type": "code",
   "execution_count": 9,
   "metadata": {},
   "outputs": [
    {
     "data": {
      "text/html": [
       "160"
      ],
      "text/latex": [
       "160"
      ],
      "text/markdown": [
       "160"
      ],
      "text/plain": [
       "[1] 160"
      ]
     },
     "metadata": {},
     "output_type": "display_data"
    }
   ],
   "source": [
    "nrow(init_table)"
   ]
  },
  {
   "cell_type": "code",
   "execution_count": 10,
   "metadata": {},
   "outputs": [],
   "source": [
    "count_curr <- sample(33000:55000, size = nrow(init_table), replace = TRUE)"
   ]
  },
  {
   "cell_type": "code",
   "execution_count": 11,
   "metadata": {},
   "outputs": [
    {
     "data": {
      "text/html": [
       "160"
      ],
      "text/latex": [
       "160"
      ],
      "text/markdown": [
       "160"
      ],
      "text/plain": [
       "[1] 160"
      ]
     },
     "metadata": {},
     "output_type": "display_data"
    }
   ],
   "source": [
    "length(count_curr)"
   ]
  },
  {
   "cell_type": "code",
   "execution_count": 12,
   "metadata": {},
   "outputs": [
    {
     "name": "stdout",
     "output_type": "stream",
     "text": [
      "Classes ‘data.table’ and 'data.frame':\t160 obs. of  2 variables:\n",
      " $ dates    : Date, format: \"2016-01-01\" \"2016-01-01\" ...\n",
      " $ row_label: chr  \"A: format 1\" \"B: format 2\" \"C: format 3\" \"D: format 4\" ...\n",
      " - attr(*, \".internal.selfref\")=<externalptr> \n",
      " - attr(*, \"sorted\")= chr  \"dates\" \"row_label\"\n"
     ]
    }
   ],
   "source": [
    "str(init_table)"
   ]
  },
  {
   "cell_type": "code",
   "execution_count": 13,
   "metadata": {},
   "outputs": [],
   "source": [
    "sample_data <- data.frame(date = init_table$dates, row_label = init_table$row_label, count = count_curr)"
   ]
  },
  {
   "cell_type": "code",
   "execution_count": 14,
   "metadata": {},
   "outputs": [
    {
     "name": "stdout",
     "output_type": "stream",
     "text": [
      "'data.frame':\t160 obs. of  3 variables:\n",
      " $ date     : Date, format: \"2016-01-01\" \"2016-01-01\" ...\n",
      " $ row_label: Factor w/ 4 levels \"A: format 1\",..: 1 2 3 4 1 2 3 4 1 2 ...\n",
      " $ count    : int  36123 37129 40047 51673 42566 37832 54721 50022 43116 46211 ...\n"
     ]
    }
   ],
   "source": [
    "str(sample_data)"
   ]
  },
  {
   "cell_type": "code",
   "execution_count": 15,
   "metadata": {},
   "outputs": [
    {
     "data": {
      "text/html": [
       "<table>\n",
       "<thead><tr><th scope=col>date</th><th scope=col>row_label</th><th scope=col>count</th></tr></thead>\n",
       "<tbody>\n",
       "\t<tr><td>2016-01-01 </td><td>A: format 1</td><td>36123      </td></tr>\n",
       "\t<tr><td>2016-01-01 </td><td>B: format 2</td><td>37129      </td></tr>\n",
       "\t<tr><td>2016-01-01 </td><td>C: format 3</td><td>40047      </td></tr>\n",
       "\t<tr><td>2016-01-01 </td><td>D: format 4</td><td>51673      </td></tr>\n",
       "\t<tr><td>2016-02-01 </td><td>A: format 1</td><td>42566      </td></tr>\n",
       "\t<tr><td>2016-02-01 </td><td>B: format 2</td><td>37832      </td></tr>\n",
       "</tbody>\n",
       "</table>\n"
      ],
      "text/latex": [
       "\\begin{tabular}{r|lll}\n",
       " date & row\\_label & count\\\\\n",
       "\\hline\n",
       "\t 2016-01-01  & A: format 1 & 36123      \\\\\n",
       "\t 2016-01-01  & B: format 2 & 37129      \\\\\n",
       "\t 2016-01-01  & C: format 3 & 40047      \\\\\n",
       "\t 2016-01-01  & D: format 4 & 51673      \\\\\n",
       "\t 2016-02-01  & A: format 1 & 42566      \\\\\n",
       "\t 2016-02-01  & B: format 2 & 37832      \\\\\n",
       "\\end{tabular}\n"
      ],
      "text/markdown": [
       "\n",
       "| date | row_label | count |\n",
       "|---|---|---|\n",
       "| 2016-01-01  | A: format 1 | 36123       |\n",
       "| 2016-01-01  | B: format 2 | 37129       |\n",
       "| 2016-01-01  | C: format 3 | 40047       |\n",
       "| 2016-01-01  | D: format 4 | 51673       |\n",
       "| 2016-02-01  | A: format 1 | 42566       |\n",
       "| 2016-02-01  | B: format 2 | 37832       |\n",
       "\n"
      ],
      "text/plain": [
       "  date       row_label   count\n",
       "1 2016-01-01 A: format 1 36123\n",
       "2 2016-01-01 B: format 2 37129\n",
       "3 2016-01-01 C: format 3 40047\n",
       "4 2016-01-01 D: format 4 51673\n",
       "5 2016-02-01 A: format 1 42566\n",
       "6 2016-02-01 B: format 2 37832"
      ]
     },
     "metadata": {},
     "output_type": "display_data"
    }
   ],
   "source": [
    "head(sample_data)"
   ]
  },
  {
   "cell_type": "code",
   "execution_count": 18,
   "metadata": {},
   "outputs": [
    {
     "name": "stderr",
     "output_type": "stream",
     "text": [
      "Warning message in write.csv(x = sample_data, file = \"sample_data.csv\", row.names = FALSE, :\n",
      "“attempt to set 'col.names' ignored”"
     ]
    }
   ],
   "source": [
    "write.csv(x = sample_data,\n",
    "          file = \"sample_data.csv\",\n",
    "          row.names = FALSE,\n",
    "          col.names = TRUE,\n",
    "          quote = FALSE)"
   ]
  }
 ],
 "metadata": {
  "kernelspec": {
   "display_name": "R",
   "language": "R",
   "name": "ir"
  },
  "language_info": {
   "codemirror_mode": "r",
   "file_extension": ".r",
   "mimetype": "text/x-r-source",
   "name": "R",
   "pygments_lexer": "r",
   "version": "3.6.1"
  }
 },
 "nbformat": 4,
 "nbformat_minor": 2
}
